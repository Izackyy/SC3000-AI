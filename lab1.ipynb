{
 "cells": [
  {
   "cell_type": "code",
   "execution_count": 3,
   "metadata": {},
   "outputs": [
    {
     "name": "stdout",
     "output_type": "stream",
     "text": [
      "Requirement already satisfied: gym in c:\\users\\isaac\\anaconda3\\lib\\site-packages (0.26.2)\n",
      "Requirement already satisfied: pyvirtualdisplay in c:\\users\\isaac\\anaconda3\\lib\\site-packages (3.0)\n",
      "Requirement already satisfied: numpy>=1.18.0 in c:\\users\\isaac\\anaconda3\\lib\\site-packages (from gym) (1.24.3)\n",
      "Requirement already satisfied: cloudpickle>=1.2.0 in c:\\users\\isaac\\anaconda3\\lib\\site-packages (from gym) (2.2.1)\n",
      "Requirement already satisfied: gym_notices>=0.0.4 in c:\\users\\isaac\\anaconda3\\lib\\site-packages (from gym) (0.0.8)\n",
      "Requirement already satisfied: pygame in c:\\users\\isaac\\anaconda3\\lib\\site-packages (2.5.2)\n",
      "Requirement already satisfied: gymnasium[classic-control] in c:\\users\\isaac\\anaconda3\\lib\\site-packages (1.1.1)\n",
      "Requirement already satisfied: pyvirtualdisplay in c:\\users\\isaac\\anaconda3\\lib\\site-packages (3.0)\n",
      "Requirement already satisfied: numpy>=1.21.0 in c:\\users\\isaac\\anaconda3\\lib\\site-packages (from gymnasium[classic-control]) (1.24.3)\n",
      "Requirement already satisfied: cloudpickle>=1.2.0 in c:\\users\\isaac\\anaconda3\\lib\\site-packages (from gymnasium[classic-control]) (2.2.1)\n",
      "Requirement already satisfied: typing-extensions>=4.3.0 in c:\\users\\isaac\\appdata\\roaming\\python\\python311\\site-packages (from gymnasium[classic-control]) (4.11.0)\n",
      "Requirement already satisfied: farama-notifications>=0.0.1 in c:\\users\\isaac\\anaconda3\\lib\\site-packages (from gymnasium[classic-control]) (0.0.4)\n",
      "Requirement already satisfied: setuptools in c:\\users\\isaac\\anaconda3\\lib\\site-packages (77.0.3)\n"
     ]
    }
   ],
   "source": [
    "!pip install gym pyvirtualdisplay \n",
    "!pip install pygame gymnasium[classic-control] pyvirtualdisplay\n",
    "!pip install --upgrade setuptools \n"
   ]
  },
  {
   "cell_type": "markdown",
   "metadata": {},
   "source": [
    "<h2> Importing dependencies and define helper functions </h2>"
   ]
  },
  {
   "cell_type": "code",
   "execution_count": 4,
   "metadata": {},
   "outputs": [],
   "source": [
    "import gym\n",
    "from gym import logger as gymlogger\n",
    "from gym.wrappers import RecordVideo\n",
    "gymlogger.set_level(40) #error only\n",
    "import tensorflow as tf\n",
    "import numpy as np\n",
    "import random\n",
    "import matplotlib\n",
    "import matplotlib.pyplot as plt\n",
    "%matplotlib inline\n",
    "import math\n",
    "import glob\n",
    "import io\n",
    "import base64\n",
    "from IPython.display import HTML\n",
    "from IPython import display as ipythondisplay\n",
    "\n",
    "def show_video():\n",
    "  mp4list = glob.glob('video/*.mp4')\n",
    "  if len(mp4list) > 0:\n",
    "    mp4 = mp4list[0]\n",
    "    video = io.open(mp4, 'r+b').read()\n",
    "    encoded = base64.b64encode(video)\n",
    "    ipythondisplay.display(HTML(data=''''''.format(encoded.decode('ascii'))))\n",
    "  else: \n",
    "    print(\"Could not find video\")"
   ]
  },
  {
   "cell_type": "markdown",
   "metadata": {},
   "source": [
    "## Tutorial: Loading CartPole environment"
   ]
  },
  {
   "cell_type": "code",
   "execution_count": 7,
   "metadata": {},
   "outputs": [],
   "source": [
    "env = gym.make(\"CartPole-v1\")"
   ]
  },
  {
   "cell_type": "markdown",
   "metadata": {},
   "source": [
    "We can check the action and observation space of this environment. Discrete(2) means that there are two valid discrete actions: 0 & 1."
   ]
  },
  {
   "cell_type": "code",
   "execution_count": 8,
   "metadata": {},
   "outputs": [
    {
     "name": "stdout",
     "output_type": "stream",
     "text": [
      "Discrete(2)\n"
     ]
    }
   ],
   "source": [
    "print(env.action_space)"
   ]
  },
  {
   "cell_type": "markdown",
   "metadata": {},
   "source": [
    "The observation space is given below. The first two arrays define the min and max values of the 4 observed values, corresponding to cart position, velocity and pole angle, angular velocity."
   ]
  },
  {
   "cell_type": "code",
   "execution_count": 9,
   "metadata": {},
   "outputs": [
    {
     "name": "stdout",
     "output_type": "stream",
     "text": [
      "Box([-4.8000002e+00 -3.4028235e+38 -4.1887903e-01 -3.4028235e+38], [4.8000002e+00 3.4028235e+38 4.1887903e-01 3.4028235e+38], (4,), float32)\n"
     ]
    }
   ],
   "source": [
    "print(env.observation_space)"
   ]
  },
  {
   "cell_type": "markdown",
   "metadata": {},
   "source": [
    "We call each round of the pole-balancing game an \"episode\". At the start of each episode, make sure the environment is reset, which chooses a random initial state, e.g., pole slightly tilted to the right. This initialization can be achieved by the code below, which returns the observation of the initial state."
   ]
  },
  {
   "cell_type": "code",
   "execution_count": 45,
   "metadata": {},
   "outputs": [
    {
     "name": "stdout",
     "output_type": "stream",
     "text": [
      "Initial observations: [0.01709724 0.02757332 0.01319743 0.04149739]\n"
     ]
    }
   ],
   "source": [
    "observation, _ = env.reset()\n",
    "print(\"Initial observations:\", observation)"
   ]
  },
  {
   "cell_type": "markdown",
   "metadata": {},
   "source": [
    "<h4> Observation = [cart position, cart velocity, pole angle, pole angular velocity] </h4>"
   ]
  },
  {
   "cell_type": "markdown",
   "metadata": {},
   "source": [
    "For the CartPole environment, there are two possible actions: 0 for pushing to the left and 1 for pushing to the right. For example, we can push the cart to the left using code below, which returns the new observation, the current reward, an indicator of whether the game ends, and some additional information (not used in this project). For CartPole, the game ends when the pole is significantly tilted or you manage to balance the pole for 500 steps. You get exactly 1 reward for each step before the game ends (i.e., max cumulative reward is 500)."
   ]
  },
  {
   "cell_type": "code",
   "execution_count": 12,
   "metadata": {},
   "outputs": [
    {
     "name": "stdout",
     "output_type": "stream",
     "text": [
      "(array([-0.03242591, -0.373014  , -0.03261142,  0.54865456], dtype=float32), 1.0, False, False, {})\n"
     ]
    }
   ],
   "source": [
    "print(env.step(0))"
   ]
  },
  {
   "cell_type": "code",
   "execution_count": 59,
   "metadata": {},
   "outputs": [
    {
     "name": "stdout",
     "output_type": "stream",
     "text": [
      "New observations after choosing action 0: [-0.33107588 -2.6991177   0.5986238   4.7351556 ]\n",
      "Reward for this step: 0.0\n",
      "Is this round done? True\n"
     ]
    }
   ],
   "source": [
    "observation, reward, done, _, info = env.step(0)\n",
    "print(\"New observations after choosing action 0:\", observation)\n",
    "print(\"Reward for this step:\", reward)\n",
    "print(\"Is this round done?\", done)"
   ]
  },
  {
   "cell_type": "markdown",
   "metadata": {},
   "source": [
    "Now we can play a full round of the game using a naive strategy (always choosing action 0), and show the cumulative reward in the round. Note that reward returned by env.step(*) corresponds to the reward for current step. So we have to accumulate the reward for each step. Clearly, the naive strategy performs poorly by surviving only a dozen of steps."
   ]
  },
  {
   "cell_type": "code",
   "execution_count": 74,
   "metadata": {},
   "outputs": [
    {
     "name": "stdout",
     "output_type": "stream",
     "text": [
      "Cumulative reward for this round: 9.0\n"
     ]
    }
   ],
   "source": [
    "observation = env.reset()\n",
    "cumulative_reward = 0\n",
    "done = False\n",
    "while not done:\n",
    "    observation, reward, done, _, info = env.step(0)\n",
    "    cumulative_reward += reward\n",
    "print(\"Cumulative reward for this round:\", cumulative_reward)"
   ]
  },
  {
   "cell_type": "markdown",
   "metadata": {},
   "source": [
    "An example of a naive agent is given below, which randomly chooses an action regardless of the observation:"
   ]
  },
  {
   "cell_type": "code",
   "execution_count": null,
   "metadata": {},
   "outputs": [],
   "source": [
    "def rand_policy_agent(observation):\n",
    "    return random.randint(0, 1)"
   ]
  },
  {
   "cell_type": "markdown",
   "metadata": {},
   "source": [
    "For Task 1, we can show the observation and chosen action below:"
   ]
  },
  {
   "cell_type": "code",
   "execution_count": null,
   "metadata": {},
   "outputs": [
    {
     "name": "stdout",
     "output_type": "stream",
     "text": [
      "Observation: [ 0.01777253 -0.02463525 -0.02999895  0.0492132 ]\n",
      "Chosen action: 1\n"
     ]
    }
   ],
   "source": [
    "observation, _ = env.reset()\n",
    "action = rand_policy_agent(observation)\n",
    "print(\"Observation:\", observation)\n",
    "print(\"Chosen action:\", action)"
   ]
  },
  {
   "cell_type": "code",
   "execution_count": null,
   "metadata": {},
   "outputs": [
    {
     "name": "stdout",
     "output_type": "stream",
     "text": [
      "Observation: [-0.03306764 -0.19924793 -0.02260402  0.27338678]\n",
      "Chosen action: 0\n",
      "Observation: [-0.0370526  -0.39404017 -0.01713628  0.5588555 ]\n",
      "Chosen action: 0\n",
      "Observation: [-0.0449334  -0.19868194 -0.00595917  0.26082334]\n",
      "Chosen action: 1\n",
      "Observation: [-0.04890704 -0.00347542 -0.0007427  -0.03373322]\n",
      "Chosen action: 1\n",
      "Observation: [-0.04897655 -0.19858672 -0.00141737  0.2587153 ]\n",
      "Chosen action: 0\n",
      "Observation: [-0.05294828 -0.3936884   0.00375694  0.5509508 ]\n",
      "Chosen action: 0\n",
      "Observation: [-0.06082205 -0.19861943  0.01477595  0.25945395]\n",
      "Chosen action: 1\n",
      "Observation: [-0.06479444 -0.39394915  0.01996503  0.55676055]\n",
      "Chosen action: 0\n",
      "Observation: [-0.07267343 -0.58934563  0.03110024  0.85566616]\n",
      "Chosen action: 0\n",
      "Observation: [-0.08446033 -0.78487724  0.04821357  1.1579638 ]\n",
      "Chosen action: 0\n",
      "Observation: [-0.10015788 -0.5904157   0.07137284  0.8807797 ]\n",
      "Chosen action: 1\n",
      "Observation: [-0.11196619 -0.78643084  0.08898844  1.1950197 ]\n",
      "Chosen action: 0\n",
      "Observation: [-0.12769482 -0.5925666   0.11288883  0.93150204]\n",
      "Chosen action: 1\n",
      "Observation: [-0.13954614 -0.78901607  0.13151887  1.2574195 ]\n",
      "Chosen action: 0\n",
      "Observation: [-0.15532647 -0.9855529   0.15666726  1.588234  ]\n",
      "Chosen action: 0\n",
      "Observation: [-0.17503752 -0.7926009   0.18843193  1.3482226 ]\n",
      "Chosen action: 1\n",
      "Observation: [-0.19088954 -0.989524    0.21539639  1.6934503 ]\n",
      "Chosen action: 0\n",
      "Cumulative reward for this round: 17.0\n"
     ]
    }
   ],
   "source": [
    "observation, _ = env.reset()\n",
    "cumulative_reward = 0\n",
    "done = False\n",
    "while not done:\n",
    "    action = rand_policy_agent(observation)\n",
    "    observation, reward, done, _, info = env.step(action)\n",
    "    cumulative_reward += reward\n",
    "    print(\"Observation:\", observation)\n",
    "    print(\"Chosen action:\", action)\n",
    "print(\"Cumulative reward for this round:\", cumulative_reward)"
   ]
  },
  {
   "cell_type": "markdown",
   "metadata": {},
   "source": [
    "## Task 1: Development of an RL agent"
   ]
  },
  {
   "cell_type": "markdown",
   "metadata": {},
   "source": [
    "<h3> A Q-learning agent shall be used  <br>\n",
    "<h5> Q-learning works with finite (discrete) state spaces, but CartPole’s state is continuous, meaning there are infinite possible states. <br>\n",
    "The agent can’t store Q-values for infinite states, so we must discretize the state space into bins. </h5>\n"
   ]
  },
  {
   "cell_type": "code",
   "execution_count": 215,
   "metadata": {},
   "outputs": [],
   "source": [
    "# Define state space boundaries\n",
    "state_bounds = np.array([\n",
    "    [-4.8, 4.8],   # Cart Position\n",
    "    [-5.0, 5.0],   # Cart Velocity \n",
    "    [-0.418, 0.418],  # Pole Angle (~24 degrees)\n",
    "    [-5.0, 5.0]    # Pole Angular Velocity \n",
    "])\n",
    "\n",
    "# Number of discrete bins\n",
    "num_bins = [40, 40, 50, 50]\n",
    "\n",
    "# Compute bin size for each variable\n",
    "bin_size = (state_bounds[:, 1] - state_bounds[:, 0]) / num_bins\n",
    "\n",
    "def get_discrete_state(state):\n",
    "    \n",
    "    # Clip state values to prevent out-of-range errors\n",
    "    normalized_state = np.clip(state, state_bounds[:, 0] * 2, state_bounds[:, 1] * 2)\n",
    "    discrete_state = ((normalized_state - state_bounds[:, 0]) / bin_size).astype(int)\n",
    "    \n",
    "    return tuple(discrete_state)"
   ]
  },
  {
   "cell_type": "code",
   "execution_count": 155,
   "metadata": {},
   "outputs": [
    {
     "name": "stdout",
     "output_type": "stream",
     "text": [
      "Continuous state: [ 0.04314561  0.01128179 -0.0194289  -0.00549483]\n",
      "Discrete state: (20, 20, 23, 24)\n"
     ]
    }
   ],
   "source": [
    "# Check initial state\n",
    "observation, _ = env.reset()\n",
    "discrete_obs = get_discrete_state(observation)\n",
    "print(\"Continuous state:\", observation)\n",
    "print(\"Discrete state:\", discrete_obs)"
   ]
  },
  {
   "cell_type": "markdown",
   "metadata": {},
   "source": [
    "<h5> The observations for the current continuous state will be saved into the respective bins indicated in the discrete state tuple "
   ]
  },
  {
   "cell_type": "code",
   "execution_count": 261,
   "metadata": {},
   "outputs": [],
   "source": [
    "#Defining Hypermeters\n",
    "LEARNING_RATE = 0.5  # alpha\n",
    "DISCOUNT = 0.99  # gamma\n",
    "EPISODES = 100\n",
    "\n",
    "epsilon = 1\n",
    "epsilon_min = 0.05\n",
    "epsilon_decay = 0.9\n",
    "\n"
   ]
  },
  {
   "cell_type": "code",
   "execution_count": null,
   "metadata": {},
   "outputs": [],
   "source": [
    "# Q-table initialization\n",
    "q_table = np.zeros((num_bins + [env.action_space.n]))\n",
    "q_table.shape\n",
    "\n",
    "# Reward array initialization\n",
    "rewardArr = np.zeros((EPISODES + 1,), dtype=int)"
   ]
  },
  {
   "cell_type": "markdown",
   "metadata": {},
   "source": [
    "<h5> We will be implementing epsilon-greedy policy for action selection "
   ]
  },
  {
   "cell_type": "code",
   "execution_count": 207,
   "metadata": {},
   "outputs": [],
   "source": [
    "def agent(env, EPISODES, LEARNING_RATE, DISCOUNT, epsilon, epsilon_decay, q_table, epsilon_min=0.01):\n",
    "    total_reward = 0\n",
    "    prev_episode_reward = 0\n",
    "    total_steps = np.zeros(10, dtype = int)\n",
    "    \n",
    "    for episode in range(EPISODES):\n",
    "        # Reset the environment and get the initial state\n",
    "        discrete_state = get_discrete_state(env.reset()[0])\n",
    "        done = False\n",
    "        episode_reward = 0\n",
    "        episode_length = 0\n",
    "        time_since_last_reward = 0  # Track time steps since last reward\n",
    "\n",
    "        # Loop until the episode is complete\n",
    "        while not done and episode_length < 500:\n",
    "            # Determine the action to take using epsilon-greedy policy\n",
    "            if np.random.random() > epsilon:\n",
    "                action = np.argmax(q_table[discrete_state])\n",
    "            else:\n",
    "                action = np.random.randint(0, env.action_space.n)\n",
    "\n",
    "            # Take the chosen action and observe the new state and reward\n",
    "            new_state, reward, done, _, info = env.step(action)\n",
    "            episode_reward += reward\n",
    "            episode_length += 1\n",
    "            time_since_last_reward += 1\n",
    "\n",
    "            # Discretize the new state and find the maximum Q-value for the new state\n",
    "            new_discrete_state = get_discrete_state(new_state)\n",
    "            max_future_q = np.max(q_table[new_discrete_state])\n",
    "            current_q = q_table[discrete_state + (action,)]\n",
    "\n",
    "            # Reward shaping logic\n",
    "            cart_position, cart_velocity, pole_angle, pole_velocity = new_state\n",
    "\n",
    "            # Penalize large cart position deviation (increased penalty)\n",
    "            if abs(cart_position) > 2.4:  # Cart position is out of bounds\n",
    "                reward -= 2.0  # Increase the penalty\n",
    "\n",
    "            # Penalize large pole angle deviation (increased penalty)\n",
    "            if abs(pole_angle) > 0.3:  # Pole angle deviates too much from vertical\n",
    "                reward -= 2.0  # Increase the penalty\n",
    "\n",
    "            # Reward for stabilizing the pole (within a small angle range)\n",
    "            if abs(pole_angle) < 0.05:\n",
    "                reward += 0.3  # Larger reward for maintaining pole stability\n",
    "\n",
    "            # Reward for keeping cart position within the center of track\n",
    "            if abs(cart_position) < 0.5:\n",
    "                reward += 0.2  # Larger reward for keeping cart near center\n",
    "\n",
    "            # Reward for every 100 time steps (longer episode duration)\n",
    "            if time_since_last_reward >= 100:\n",
    "                reward += 0.5  # Give a larger reward for 100 time steps\n",
    "\n",
    "            # Reward for every 200 time steps (further stabilization)\n",
    "            if time_since_last_reward >= 200:\n",
    "                reward += 1.0  # Larger reward for 200 time steps\n",
    "\n",
    "            # Update the Q-value using the Q-learning update rule\n",
    "            new_q = current_q + LEARNING_RATE * (reward + DISCOUNT * max_future_q - current_q)\n",
    "            q_table[discrete_state + (action,)] = new_q\n",
    "\n",
    "            # Update the current state to the new state\n",
    "            discrete_state = new_discrete_state\n",
    "\n",
    "        # Tracking the total episode reward and reward for each episode\n",
    "        total_reward += episode_reward\n",
    "        rewardArr[episode] = episode_reward\n",
    "        total_steps[episode % 10] = episode_length\n",
    "\n",
    "        # Update epsilon (exploration rate) with decay\n",
    "        if epsilon > epsilon_min and episode_reward > prev_episode_reward:\n",
    "            epsilon *= epsilon_decay\n",
    "\n",
    "        prev_episode_reward = episode_reward\n",
    "\n",
    "        # Print progress for every 10% of total episodes\n",
    "        if episode == 0 or episode % (EPISODES // 10) == 0 or episode == EPISODES-1:\n",
    "            print(f\"Episode {episode}/{EPISODES} - Epsilon: {epsilon:.4f}\")\n",
    "            print(\"Max Steps:\", max(total_steps))\n",
    "            mean_reward = total_reward / (episode + 1)\n",
    "            print(f\"Mean Reward: {mean_reward:.2f}\")\n",
    "            \n",
    "    # Closing the environment and returning the trained q_table and rewardArr\n",
    "    env.close()\n",
    "    return q_table, rewardArr\n"
   ]
  },
  {
   "cell_type": "markdown",
   "metadata": {},
   "source": [
    "<h5> Epsilon gradually decays over time to shift from exploration to exploitation: <br>\n",
    "- Epsilon only decreases if the agent's reward is improving, encouraging exploration when needed. <br>\n",
    "- It stops decreasing at 0.05, ensuring the agent never stops exploring completely."
   ]
  },
  {
   "cell_type": "markdown",
   "metadata": {},
   "source": [
    "<h5> Since epsilon starts at 1 and gradually decreases over time, in early episodes, the agent explores more (choosing a random action frequently). As epsilon gets smaller, the agent exploits more (choosing the best-known action more often). This aligns with the ε-soft policy improvement shown in the image."
   ]
  },
  {
   "cell_type": "code",
   "execution_count": 266,
   "metadata": {},
   "outputs": [
    {
     "name": "stdout",
     "output_type": "stream",
     "text": [
      "Episode 0/100 - Epsilon: 0.9000\n",
      "Max Steps: 23\n",
      "Mean Reward: 23.00\n",
      "Episode 10/100 - Epsilon: 0.5905\n",
      "Max Steps: 81\n",
      "Mean Reward: 40.73\n",
      "Episode 20/100 - Epsilon: 0.3138\n",
      "Max Steps: 118\n",
      "Mean Reward: 54.86\n",
      "Episode 30/100 - Epsilon: 0.1668\n",
      "Max Steps: 394\n",
      "Mean Reward: 90.10\n",
      "Episode 40/100 - Epsilon: 0.0985\n",
      "Max Steps: 483\n",
      "Mean Reward: 126.56\n",
      "Episode 50/100 - Epsilon: 0.0718\n",
      "Max Steps: 291\n",
      "Mean Reward: 131.61\n",
      "Episode 60/100 - Epsilon: 0.0343\n",
      "Max Steps: 484\n",
      "Mean Reward: 152.07\n",
      "Episode 70/100 - Epsilon: 0.0182\n",
      "Max Steps: 498\n",
      "Mean Reward: 169.79\n",
      "Episode 80/100 - Epsilon: 0.0108\n",
      "Max Steps: 500\n",
      "Mean Reward: 192.22\n",
      "Episode 90/100 - Epsilon: 0.0097\n",
      "Max Steps: 500\n",
      "Mean Reward: 208.37\n",
      "Episode 99/100 - Epsilon: 0.0097\n",
      "Max Steps: 500\n",
      "Mean Reward: 210.87\n"
     ]
    }
   ],
   "source": [
    "\n",
    "q_table, rewardArr = agent(env, EPISODES, LEARNING_RATE, DISCOUNT, epsilon, epsilon_decay, q_table)\n"
   ]
  },
  {
   "cell_type": "code",
   "execution_count": 263,
   "metadata": {},
   "outputs": [
    {
     "data": {
      "image/png": "[encoded data removed]",
      "text/plain": [
       "<Figure size 640x480 with 1 Axes>"
      ]
     },
     "metadata": {},
     "output_type": "display_data"
    }
   ],
   "source": [
    "plt.plot(rewardArr)\n",
    "plt.title('Cumulative reward for each episode')\n",
    "plt.ylabel('Cumulative reward')\n",
    "plt.xlabel('episode')\n",
    "plt.show()"
   ]
  },
  {
   "cell_type": "code",
   "execution_count": 267,
   "metadata": {},
   "outputs": [
    {
     "name": "stdout",
     "output_type": "stream",
     "text": [
      "Average cumulative reward: 208.78217821782178\n",
      "Is my agent good enough? True\n"
     ]
    }
   ],
   "source": [
    "print(\"Average cumulative reward:\", rewardArr.mean())\n",
    "print(\"Is my agent good enough?\", rewardArr.mean() > 195)"
   ]
  },
  {
   "cell_type": "markdown",
   "metadata": {},
   "source": []
  }
 ],
 "metadata": {
  "kernelspec": {
   "display_name": "base",
   "language": "python",
   "name": "python3"
  },
  "language_info": {
   "codemirror_mode": {
    "name": "ipython",
    "version": 3
   },
   "file_extension": ".py",
   "mimetype": "text/x-python",
   "name": "python",
   "nbconvert_exporter": "python",
   "pygments_lexer": "ipython3",
   "version": "3.11.4"
  }
 },
 "nbformat": 4,
 "nbformat_minor": 2
}
